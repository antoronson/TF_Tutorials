{
  "nbformat": 4,
  "nbformat_minor": 0,
  "metadata": {
    "colab": {
      "provenance": [],
      "authorship_tag": "ABX9TyPF6rNrmhQftVBrdJbio9+F",
      "include_colab_link": true
    },
    "kernelspec": {
      "name": "python3",
      "display_name": "Python 3"
    },
    "language_info": {
      "name": "python"
    }
  },
  "cells": [
    {
      "cell_type": "markdown",
      "metadata": {
        "id": "view-in-github",
        "colab_type": "text"
      },
      "source": [
        "<a href=\"https://colab.research.google.com/github/antoronson/TF_Tutorials/blob/main/TF_TextClass_Ex.ipynb\" target=\"_parent\"><img src=\"https://colab.research.google.com/assets/colab-badge.svg\" alt=\"Open In Colab\"/></a>"
      ]
    },
    {
      "cell_type": "code",
      "execution_count": 2,
      "metadata": {
        "colab": {
          "base_uri": "https://localhost:8080/",
          "height": 1000
        },
        "id": "9kh78N7TU4YZ",
        "outputId": "e19e8f7f-e225-4038-a555-a56bcf991561"
      },
      "outputs": [
        {
          "output_type": "stream",
          "name": "stdout",
          "text": [
            "Downloading data from https://storage.googleapis.com/download.tensorflow.org/data/stack_overflow_16k.tar.gz\n",
            "6053168/6053168 [==============================] - 0s 0us/step\n",
            "Found 8000 files belonging to 4 classes.\n",
            "Using 6400 files for training.\n",
            "Found 8000 files belonging to 4 classes.\n",
            "Using 6400 files for training.\n",
            "Found 8000 files belonging to 4 classes.\n",
            "Model: \"sequential\"\n",
            "_________________________________________________________________\n",
            " Layer (type)                Output Shape              Param #   \n",
            "=================================================================\n",
            " embedding (Embedding)       (None, None, 16)          160016    \n",
            "                                                                 \n",
            " dropout (Dropout)           (None, None, 16)          0         \n",
            "                                                                 \n",
            " global_average_pooling1d (  (None, 16)                0         \n",
            " GlobalAveragePooling1D)                                         \n",
            "                                                                 \n",
            " dropout_1 (Dropout)         (None, 16)                0         \n",
            "                                                                 \n",
            " dense (Dense)               (None, 4)                 68        \n",
            "                                                                 \n",
            "=================================================================\n",
            "Total params: 160084 (625.33 KB)\n",
            "Trainable params: 160084 (625.33 KB)\n",
            "Non-trainable params: 0 (0.00 Byte)\n",
            "_________________________________________________________________\n",
            "Epoch 1/10\n",
            "200/200 [==============================] - 4s 13ms/step - loss: 1.3807 - accuracy: 0.3481 - val_loss: 1.3700 - val_accuracy: 0.4566\n",
            "Epoch 2/10\n",
            "200/200 [==============================] - 1s 5ms/step - loss: 1.3561 - accuracy: 0.4514 - val_loss: 1.3351 - val_accuracy: 0.5730\n",
            "Epoch 3/10\n",
            "200/200 [==============================] - 1s 5ms/step - loss: 1.3108 - accuracy: 0.5473 - val_loss: 1.2781 - val_accuracy: 0.6159\n",
            "Epoch 4/10\n",
            "200/200 [==============================] - 1s 5ms/step - loss: 1.2470 - accuracy: 0.6069 - val_loss: 1.2039 - val_accuracy: 0.6720\n",
            "Epoch 5/10\n",
            "200/200 [==============================] - 1s 7ms/step - loss: 1.1673 - accuracy: 0.6625 - val_loss: 1.1207 - val_accuracy: 0.7145\n",
            "Epoch 6/10\n",
            "200/200 [==============================] - 1s 5ms/step - loss: 1.0876 - accuracy: 0.7030 - val_loss: 1.0383 - val_accuracy: 0.7428\n",
            "Epoch 7/10\n",
            "200/200 [==============================] - 1s 5ms/step - loss: 1.0087 - accuracy: 0.7277 - val_loss: 0.9627 - val_accuracy: 0.7622\n",
            "Epoch 8/10\n",
            "200/200 [==============================] - 1s 5ms/step - loss: 0.9387 - accuracy: 0.7536 - val_loss: 0.8956 - val_accuracy: 0.7766\n",
            "Epoch 9/10\n",
            "200/200 [==============================] - 1s 5ms/step - loss: 0.8798 - accuracy: 0.7633 - val_loss: 0.8370 - val_accuracy: 0.7866\n",
            "Epoch 10/10\n",
            "200/200 [==============================] - 1s 5ms/step - loss: 0.8257 - accuracy: 0.7778 - val_loss: 0.7859 - val_accuracy: 0.7980\n",
            "250/250 [==============================] - 1s 3ms/step - loss: 0.8613 - accuracy: 0.7391\n",
            "Loss:  0.8612651228904724\n",
            "Accuracy:  0.7391250133514404\n"
          ]
        },
        {
          "output_type": "display_data",
          "data": {
            "text/plain": [
              "<Figure size 640x480 with 1 Axes>"
            ],
            "image/png": "[encoded data removed]"
          },
          "metadata": {}
        },
        {
          "output_type": "display_data",
          "data": {
            "text/plain": [
              "<Figure size 640x480 with 1 Axes>"
            ],
            "image/png": "[encoded data removed]"
          },
          "metadata": {}
        }
      ],
      "source": [
        "#TF_TextClassification_Exercise\n",
        "\n",
        "#Decl\n",
        "import tensorflow as tf\n",
        "import os\n",
        "import re\n",
        "import shutil\n",
        "import string\n",
        "import matplotlib.pyplot as plt\n",
        "\n",
        "from tensorflow.keras import layers\n",
        "from tensorflow.keras import losses\n",
        "\n",
        "url = \"https://storage.googleapis.com/download.tensorflow.org/data/stack_overflow_16k.tar.gz\"\n",
        "\n",
        "dataset = tf.keras.utils.get_file(\"stack_overflow_16k\", url,\n",
        "                                  untar = True, cache_dir='.',\n",
        "                                  cache_subdir='')\n",
        "\n",
        "dataset_dir = os.path.join(os.path.dirname(dataset))\n",
        "\n",
        "#Show directories in data\n",
        "#os.listdir(dataset_dir)\n",
        "\n",
        "train_dir = os.path.join(dataset_dir, 'train')\n",
        "test_dir = os.path.join(dataset_dir, 'test')\n",
        "\n",
        "os.listdir(train_dir)\n",
        "#os.listdir(test_dir)\n",
        "#pythondir = os.path.join(train_dir, 'python')\n",
        "#os.listdir(pythondir)\n",
        "\"\"\"\n",
        "Read file data:\n",
        "sample_file = os.path.join(train_dir, 'c/1234.txt')\n",
        "with open(sample_file) as f:\n",
        "  print(f.read())\n",
        "\"\"\"\n",
        "\n",
        "batch_size = 32 #TODO: Change and rerun later\n",
        "seed = 42 #TODO: same as above\n",
        "\n",
        "raw_train_ds = tf.keras.utils.text_dataset_from_directory(\n",
        "    'train',\n",
        "    batch_size = batch_size,\n",
        "    validation_split = 0.2,\n",
        "    subset = 'training',\n",
        "    seed = seed\n",
        ")\n",
        "\n",
        "raw_val_ds = tf.keras.utils.text_dataset_from_directory(\n",
        "    'train',\n",
        "    batch_size = batch_size,\n",
        "    validation_split = 0.2,\n",
        "    subset = 'training',\n",
        "    seed = seed\n",
        ")\n",
        "\n",
        "raw_test_ds = tf.keras.utils.text_dataset_from_directory(\n",
        "    'test',\n",
        "    batch_size = batch_size\n",
        ")\n",
        "\n",
        "\n",
        "max_features = 10000\n",
        "sequence_length = 250\n",
        "\n",
        "def custom_standardization(input_data):\n",
        "  lowercase = tf.strings.lower(input_data)\n",
        "  #stripped_html = tf.strings.regex_replace(lowercase, '<br />', ' ')\n",
        "  return tf.strings.regex_replace(lowercase,\n",
        "                                  '[%s]' % re.escape(string.punctuation),\n",
        "                                  '')\n",
        "\n",
        "\n",
        "vectorize_layer = layers.TextVectorization(\n",
        "    standardize=custom_standardization,\n",
        "    max_tokens=max_features,\n",
        "    output_mode='int',\n",
        "    output_sequence_length=sequence_length)\n",
        "\n",
        "train_text = raw_train_ds.map(lambda x, y: x)\n",
        "vectorize_layer.adapt(train_text)\n",
        "\n",
        "def vectorize_text(text, label):\n",
        "  text = tf.expand_dims(text, -1)\n",
        "  return vectorize_layer(text), label\n",
        "\n",
        "text_batch, label_batch = next(iter(raw_train_ds))\n",
        "first_review, first_label = text_batch[0], label_batch[0]\n",
        "#print(\"Review\", first_review)\n",
        "#print(\"Label\", raw_train_ds.class_names[first_label])\n",
        "#print(\"Vectorized review\", vectorize_text(first_review, first_label))\n",
        "\n",
        "train_ds = raw_train_ds.map(vectorize_text)\n",
        "val_ds = raw_val_ds.map(vectorize_text)\n",
        "test_ds = raw_test_ds.map(vectorize_text)\n",
        "\n",
        "AUTOTUNE = tf.data.AUTOTUNE\n",
        "\n",
        "train_ds = train_ds.cache().prefetch(buffer_size=AUTOTUNE)\n",
        "val_ds = val_ds.cache().prefetch(buffer_size=AUTOTUNE)\n",
        "test_ds = test_ds.cache().prefetch(buffer_size=AUTOTUNE)\n",
        "\n",
        "embedding_dim = 16\n",
        "model = tf.keras.Sequential([\n",
        "  layers.Embedding(max_features + 1, embedding_dim),\n",
        "  layers.Dropout(0.2),\n",
        "  layers.GlobalAveragePooling1D(),\n",
        "  layers.Dropout(0.2),\n",
        "  layers.Dense(4)])\n",
        "\n",
        "model.summary()\n",
        "\n",
        "\n",
        "model.compile(loss=losses.SparseCategoricalCrossentropy(from_logits=True),\n",
        "              optimizer='adam',\n",
        "              metrics=['accuracy'])\n",
        "\n",
        "\n",
        "epochs = 10\n",
        "history = model.fit(\n",
        "    train_ds,\n",
        "    validation_data=val_ds,\n",
        "    epochs=epochs)\n",
        "\n",
        "loss, accuracy = model.evaluate(test_ds)\n",
        "\n",
        "print(\"Loss: \", loss)\n",
        "print(\"Accuracy: \", accuracy)\n",
        "history_dict = history.history\n",
        "history_dict.keys()\n",
        "acc = history_dict['accuracy']\n",
        "val_acc = history_dict['val_accuracy']\n",
        "loss = history_dict['loss']\n",
        "val_loss = history_dict['val_loss']\n",
        "\n",
        "epochs = range(1, len(acc) + 1)\n",
        "\n",
        "# \"bo\" is for \"blue dot\"\n",
        "plt.plot(epochs, loss, 'bo', label='Training loss')\n",
        "# b is for \"solid blue line\"\n",
        "plt.plot(epochs, val_loss, 'b', label='Validation loss')\n",
        "plt.title('Training and validation loss')\n",
        "plt.xlabel('Epochs')\n",
        "plt.ylabel('Loss')\n",
        "plt.legend()\n",
        "\n",
        "plt.show()\n",
        "plt.plot(epochs, acc, 'bo', label='Training acc')\n",
        "plt.plot(epochs, val_acc, 'b', label='Validation acc')\n",
        "plt.title('Training and validation accuracy')\n",
        "plt.xlabel('Epochs')\n",
        "plt.ylabel('Accuracy')\n",
        "plt.legend(loc='lower right')\n",
        "\n",
        "plt.show()\n"
      ]
    },
    {
      "cell_type": "code",
      "source": [],
      "metadata": {
        "id": "TtkDxcVh0qyk"
      },
      "execution_count": 4,
      "outputs": []
    },
    {
      "cell_type": "code",
      "source": [
        "for text_batch, label_batch in raw_train_ds.take(1):\n",
        "  for i in range(3):\n",
        "    print(\"Review\", text_batch.numpy()[i])\n",
        "    print(\"Label\", label_batch.numpy()[i])\n",
        "\n",
        "print(\"Label 0 corresponds to\", raw_train_ds.class_names[0])\n",
        "print(\"Label 1 corresponds to\", raw_train_ds.class_names[1])"
      ],
      "metadata": {
        "colab": {
          "base_uri": "https://localhost:8080/"
        },
        "id": "sO5bYpCYcB7N",
        "outputId": "01caa913-a5e4-4e6f-a599-6b5a50ae61d4"
      },
      "execution_count": 5,
      "outputs": [
        {
          "output_type": "stream",
          "name": "stdout",
          "text": [
            "Review b'\"what is the difference between these two ways to create an element? var a = document.createelement(\\'div\\');..a.id = \"\"mydiv\"\";...and..var a = document.createelement(\\'div\\').id = \"\"mydiv\"\";...what is the difference between them such that the first one works and the second one doesn\\'t?\"\\n'\n",
            "Label 2\n",
            "Review b'\"is it possible to add a static object to a list in blank? i have a bunch of static classes i would like to access easily by adding them all to a list...is there a way to add these static classes to a list? i get a \"\"this type is used like a variable\"\" error...public static class pcm1_setup : igui_to_bfc.{.    //pcm1_format.    public static void setup_tobfc().    {.        //uses the checkboxes to update the bfc.        //determine the value to write to the field based on the check boxes.        regmapinputreader.bitfield bf;.        gb.bfc.name_to_bitfield_dict.trygetvalue(\"\"pcm1_format\"\", out bf);.    }..    public static void setup_frombfc().    {.        //sets up the check boxes from the bfc.    }.}..public static class pc2.{.    list&lt;igui_to_bfc&gt; abe = new list&lt;igui_to_bfc&gt;();.    pc2().    {.        abe.add(pcm1_setup); //error here----------------------.    }.}\"\\n'\n",
            "Label 0\n",
            "Review b'\"discount sale gui i\\'m encountering problems with my discount sale program. this program is supposed to prompt the user for the amount of purchases and then returns the discounted price. the discounted price is 10% and is only taken off purchases over 10$. so, the problem im encounting is everytime i put in 20$ and press submit, it gives me \"\"null\"\" and \"\"null\"\" for the other two fields. when it should display the discount amount and the total...what needs to be changed with the part of the code that sais \"\"=null\"\"?..private void jbutton1actionperformed(blank.awt.event.actionevent evt) { ..    decimalformat x = new decimalformat (\"\"$#,##0.00\"\");.    double purchases, discount, finalprice;.    purchases = double.parsedouble (purchaseamounttxt.gettext ());..    if (purchases &gt;= 10) {.        discount = purchases * 0.10;.    } else { .        discount = 0;.    }.    finalprice = purchases - discount;.    object discount = null;..    discounttxt.settext(string.valueof(discount));.    object finalprice = null;..    discountpricetxt.settext(string.valueof(finalprice));.}\"\\n'\n",
            "Label 1\n",
            "Label 0 corresponds to csharp\n",
            "Label 1 corresponds to java\n"
          ]
        }
      ]
    },
    {
      "cell_type": "code",
      "source": [
        "export_model = tf.keras.Sequential([\n",
        "  vectorize_layer,\n",
        "  model,\n",
        "  layers.Activation('sigmoid')\n",
        "])\n",
        "\n",
        "export_model.compile(\n",
        "    loss=losses.SparseCategoricalCrossentropy(from_logits=False), optimizer=\"adam\", metrics=['accuracy']\n",
        ")\n",
        "\n",
        "# Test it with `raw_test_ds`, which yields raw strings\n",
        "loss, accuracy = export_model.evaluate(raw_test_ds)\n",
        "print(accuracy)"
      ],
      "metadata": {
        "colab": {
          "base_uri": "https://localhost:8080/"
        },
        "id": "rOp-yfRU0rjs",
        "outputId": "2847ce97-e424-419e-a18b-e24d1303a34e"
      },
      "execution_count": 8,
      "outputs": [
        {
          "output_type": "stream",
          "name": "stdout",
          "text": [
            "250/250 [==============================] - 1s 4ms/step - loss: 0.8613 - accuracy: 0.7391\n",
            "0.7391250133514404\n"
          ]
        }
      ]
    },
    {
      "cell_type": "code",
      "source": [
        "examples = [\n",
        "    \"system.console is returning wrong syntax\"\n",
        "]\n",
        "export_model.predict(examples)"
      ],
      "metadata": {
        "colab": {
          "base_uri": "https://localhost:8080/"
        },
        "id": "2z_RGsvZ1YYj",
        "outputId": "7c3e2905-8f3c-4b2e-b3e8-ea604ed750cd"
      },
      "execution_count": 9,
      "outputs": [
        {
          "output_type": "stream",
          "name": "stdout",
          "text": [
            "1/1 [==============================] - 0s 96ms/step\n"
          ]
        },
        {
          "output_type": "execute_result",
          "data": {
            "text/plain": [
              "array([[0.5103551 , 0.45670545, 0.55995935, 0.459908  ]], dtype=float32)"
            ]
          },
          "metadata": {},
          "execution_count": 9
        }
      ]
    },
    {
      "cell_type": "code",
      "source": [
        "examples = [\n",
        "    \"how to generate random numbers in python\"\n",
        "]\n",
        "export_model.predict(examples)"
      ],
      "metadata": {
        "colab": {
          "base_uri": "https://localhost:8080/"
        },
        "id": "knrz6pMg3OKc",
        "outputId": "9cb5b6fd-2841-40bd-9088-197b6f8d1e13"
      },
      "execution_count": 14,
      "outputs": [
        {
          "output_type": "stream",
          "name": "stdout",
          "text": [
            "1/1 [==============================] - 0s 38ms/step\n"
          ]
        },
        {
          "output_type": "execute_result",
          "data": {
            "text/plain": [
              "array([[0.5230576 , 0.4645719 , 0.5408897 , 0.45911586]], dtype=float32)"
            ]
          },
          "metadata": {},
          "execution_count": 14
        }
      ]
    },
    {
      "cell_type": "code",
      "source": [
        "for i in range(4):\n",
        "  print (\"Label\", i, \"Corresponds to \", raw_train_ds.class_names[i])"
      ],
      "metadata": {
        "colab": {
          "base_uri": "https://localhost:8080/"
        },
        "id": "Ny-vPnWw29Tt",
        "outputId": "a37ecd05-2d09-4847-fba9-d6fdce3953e5"
      },
      "execution_count": 11,
      "outputs": [
        {
          "output_type": "stream",
          "name": "stdout",
          "text": [
            "Label 0 Corresponds to  csharp\n",
            "Label 1 Corresponds to  java\n",
            "Label 2 Corresponds to  javascript\n",
            "Label 3 Corresponds to  python\n"
          ]
        }
      ]
    }
  ]
}